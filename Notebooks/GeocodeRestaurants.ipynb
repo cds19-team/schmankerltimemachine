{
 "cells": [
  {
   "cell_type": "code",
   "execution_count": 1,
   "metadata": {},
   "outputs": [],
   "source": [
    "import pandas as pd\n",
    "import geocoder\n",
    "import time"
   ]
  },
  {
   "cell_type": "code",
   "execution_count": 4,
   "metadata": {},
   "outputs": [],
   "source": [
    "LOCATIONIQ_API_KEY = \"XXX\"\n",
    "GOOGLE_MAPS_API_KEY = \"XXX\""
   ]
  },
  {
   "cell_type": "code",
   "execution_count": null,
   "metadata": {},
   "outputs": [],
   "source": [
    "restaurants_csv = \"restaurants.csv\"\n",
    "restaurants = pd.read_csv(restaurants_csv, dtype={'PLZ': str})\n",
    "restaurants[['Straße', 'Hausnummer', 'PLZ']] = restaurants[['Straße','Hausnummer','PLZ']].fillna(value=\"\")"
   ]
  },
  {
   "cell_type": "code",
   "execution_count": 179,
   "metadata": {},
   "outputs": [
    {
     "name": "stderr",
     "output_type": "stream",
     "text": [
      "Status code Unknown from https://locationiq.org/v1/search.php: ERROR - HTTPSConnectionPool(host='locationiq.org', port=443): Read timed out. (read timeout=5.0)\n"
     ]
    }
   ],
   "source": [
    "restaurants_df = pd.DataFrame()\n",
    "\n",
    "for idx, restaurant in restaurants.iterrows():\n",
    "    if restaurant['Straße'] is not \"\" or restaurant['PLZ'] is not \"\":\n",
    "        query_string = \"{} {}, {} München, Deutschland\".format(restaurant['Straße'], restaurant['Hausnummer'], restaurant['PLZ'])\n",
    "        geo = geocoder.locationiq(query_string, key=LOCATIONIQ_API_KEY) # call API\n",
    "        data = {\n",
    "            'street': geo.street,\n",
    "            'housenumber': geo.housenumber,\n",
    "            'suburb': geo.suburb,\n",
    "            'city': geo.city,\n",
    "            'region': geo.region,\n",
    "            'state': geo.state,\n",
    "            'country': geo.country,\n",
    "            'lat': geo.lat,\n",
    "            'lng': geo.lng,\n",
    "            'quality': geo.quality,\n",
    "            'accuracy': geo.accuracy\n",
    "        }\n",
    "        row = {**restaurant, **data}\n",
    "        restaurants_df = restaurants_df.append(row, ignore_index=True)\n",
    "        time.sleep(2) # rate limit"
   ]
  },
  {
   "cell_type": "code",
   "execution_count": 197,
   "metadata": {},
   "outputs": [],
   "source": [
    "restaurants_df = restaurants_df[[\"Name\",\"Straße\",\"Hausnummer\",\"PLZ\",\"Stadtteil\",\"Stadt\",\"Region\",\"Bundesland\",\"Land\",\"URL\",\"Email\",\"Eröffnung\",\"Schließung\",\"Breitengrad\",\"Längengrad\",\"Qualität\",\"Präzision\"]]"
   ]
  },
  {
   "cell_type": "code",
   "execution_count": 213,
   "metadata": {},
   "outputs": [],
   "source": [
    "df3 = restaurants_df3.loc[:,~restaurants_df3.columns.duplicated()]\n",
    "df3.index = df3.index.astype(int)\n",
    "lokale_json_out = \"/home/linus/data/development/cds19/lokale/lokale_out.json\"\n",
    "with open(lokale_json_out, 'w', encoding='utf-8') as file:\n",
    "    df3.to_json(file, force_ascii=False, orient='records')\n",
    "#restaurants_df3.to_csv(lokale_csv_out)\n",
    "#df4 = restaurants_df3.drop(restaurants_df3.columns[4],axis=1)\n",
    "\n",
    "\n",
    "#restaurants_df3\n",
    "#df3.to_json(lokale_json_out)"
   ]
  },
  {
   "cell_type": "code",
   "execution_count": null,
   "metadata": {},
   "outputs": [],
   "source": []
  }
 ],
 "metadata": {
  "kernelspec": {
   "display_name": "Python 3",
   "language": "python",
   "name": "python3"
  },
  "language_info": {
   "codemirror_mode": {
    "name": "ipython",
    "version": 3
   },
   "file_extension": ".py",
   "mimetype": "text/x-python",
   "name": "python",
   "nbconvert_exporter": "python",
   "pygments_lexer": "ipython3",
   "version": "3.6.5"
  }
 },
 "nbformat": 4,
 "nbformat_minor": 2
}
