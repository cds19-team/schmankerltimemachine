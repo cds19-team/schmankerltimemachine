{
 "cells": [
  {
   "cell_type": "code",
   "execution_count": 1,
   "metadata": {},
   "outputs": [],
   "source": [
    "import sys\n",
    "import re\n",
    "import csv\n",
    "import pandas as pd\n",
    "import bs4 as bs\n",
    "import numpy as np\n",
    "from bs4 import BeautifulSoup\n",
    "from bs4.element import Tag\n",
    "from pandas import DataFrame\n",
    "\n",
    "# regular expression to get the id of the corresponding page\n",
    "page_id_regex = r\"facs_([\\d]*)_|$\"\n",
    "# Chars that will be removed from entities\n",
    "bad_chars = '[]'\n",
    "bad_chars_trans = str.maketrans(\"\", \"\", bad_chars)\n",
    "\n",
    "\n",
    "def load_tei_file(filename: str) -> BeautifulSoup:\n",
    "    \"\"\"Loads TEI File and returns BeatufiulSoup\n",
    "    Args:\n",
    "        filename (str): Name of the file to load\n",
    "    Returns:\n",
    "        BeautifulSoup Object\n",
    "    Raises:\n",
    "        Exception\n",
    "    \"\"\"\n",
    "    with open(filename, \"r\") as f:\n",
    "        content = f.read()\n",
    "        return bs.BeautifulSoup(content, 'lxml')"
   ]
  },
  {
   "cell_type": "code",
   "execution_count": 2,
   "metadata": {},
   "outputs": [],
   "source": [
    "file = \"FILE.xml\""
   ]
  },
  {
   "cell_type": "code",
   "execution_count": 3,
   "metadata": {},
   "outputs": [],
   "source": [
    "c = load_tei_file(file)"
   ]
  },
  {
   "cell_type": "code",
   "execution_count": 4,
   "metadata": {},
   "outputs": [],
   "source": [
    "facs = c.find_all('facsimile')"
   ]
  },
  {
   "cell_type": "code",
   "execution_count": null,
   "metadata": {},
   "outputs": [],
   "source": [
    "for fac in facs:\n",
    "    fac_str = fac['xml:id']\n",
    "    graphic = fac.find('graphic')\n",
    "    if isinstance(fac_str, str):\n",
    "        fac_id = fac_str.replace('facs_', '')\n",
    "        print(\"{},\\\"{}\\\"\".format(fac_id, graphic['url']))"
   ]
  }
 ],
 "metadata": {
  "kernelspec": {
   "display_name": "Python 3",
   "language": "python",
   "name": "python3"
  },
  "language_info": {
   "codemirror_mode": {
    "name": "ipython",
    "version": 3
   },
   "file_extension": ".py",
   "mimetype": "text/x-python",
   "name": "python",
   "nbconvert_exporter": "python",
   "pygments_lexer": "ipython3",
   "version": "3.6.5"
  }
 },
 "nbformat": 4,
 "nbformat_minor": 2
}
